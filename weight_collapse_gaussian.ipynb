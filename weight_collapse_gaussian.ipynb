{
 "cells": [
  {
   "cell_type": "code",
   "execution_count": 1,
   "id": "3d719d2a-3fd6-43c2-b9b3-a163e674e285",
   "metadata": {},
   "outputs": [],
   "source": [
    "from timeit import default_timer as timer\n",
    "import matplotlib\n",
    "%matplotlib inline\n",
    "import warnings; warnings.simplefilter('ignore')  # hide warnings\n",
    "\n",
    "# standard libraries\n",
    "import pandas as pd\n",
    "import numpy as np\n",
    "from matplotlib import pyplot as plt\n",
    "import numpy as np\n",
    "import seaborn as sns\n",
    "\n",
    "# modules from particles\n",
    "import particles  # core module\n",
    "from particles import distributions as dists  # where probability distributions are defined\n",
    "from particles import state_space_models as ssms  # where state-space models are defined\n",
    "from particles.collectors import Moments"
   ]
  },
  {
   "cell_type": "code",
   "execution_count": null,
   "id": "7cfad01a-cb33-4bd5-8a85-d2066510f9b1",
   "metadata": {},
   "outputs": [],
   "source": [
    "# pip install tqdm"
   ]
  },
  {
   "cell_type": "code",
   "execution_count": 2,
   "id": "4aa2f827-4b83-4ede-922f-96dc0960ba04",
   "metadata": {},
   "outputs": [],
   "source": [
    "class CurseOfDimension(ssms.StateSpaceModel):\n",
    "    \"\"\" Bearings-only tracking SSM.\n",
    "\n",
    "    \"\"\"\n",
    "    default_params = {'dimension': 1000,\n",
    "                      'sigmaX': 1,\n",
    "                      'sigmaY': 2**0.5,\n",
    "                      'x0': np.zeros(1000)\n",
    "                     }\n",
    "\n",
    "    def PX0(self):\n",
    "        arr_px0 = [dists.Normal(loc=self.x0[i], scale=self.sigmaX) for i in range(self.dimension)]\n",
    "        return dists.IndepProd(*arr_px0)\n",
    "\n",
    "    def PX(self, t, xp):\n",
    "        arr_px = [dists.Normal(loc=xp[:,i], scale=self.sigmaX) for i in range(self.dimension)]\n",
    "        return dists.IndepProd(*arr_px)\n",
    "\n",
    "    def PY(self, t, xp, x):\n",
    "        arr_py = [dists.Normal(loc=x[:,i], scale=self.sigmaY) for i in range(self.dimension)]\n",
    "        return dists.IndepProd(*arr_py)"
   ]
  },
  {
   "cell_type": "markdown",
   "id": "4f6431da-7ef6-472c-b9c8-f98063111346",
   "metadata": {},
   "source": [
    "## d= 1000"
   ]
  },
  {
   "cell_type": "code",
   "execution_count": 3,
   "id": "6b24d057-c7b0-4fa4-9a82-2ab9e3cfc908",
   "metadata": {},
   "outputs": [],
   "source": [
    "T = 50\n",
    "d = 1000"
   ]
  },
  {
   "cell_type": "code",
   "execution_count": null,
   "id": "d753cfcf-3225-4e89-ad67-fc5e3b15305c",
   "metadata": {},
   "outputs": [],
   "source": [
    "start_time = timer()\n",
    "\n",
    "N = 1*1000\n",
    "maxW_d1000_p1k_T50 = []\n",
    "ESS_d1000_p1k_T50 = []\n",
    "\n",
    "for i in range(1000):\n",
    "    if i%20 == 0: print(i+20, end=' ')\n",
    "    \n",
    "    bear = CurseOfDimension(dimension=d)\n",
    "    x, y = bear.simulate(T)\n",
    "    \n",
    "    fk = ssms.Bootstrap(ssm=bear, data=y)\n",
    "    alg = particles.SMC(fk=fk, N=N, store_history=1)\n",
    "    alg.run()\n",
    "    \n",
    "    maxW_d1000_p1k_T50.append(max(alg.hist.wgts[-1].W))\n",
    "    ESS_d1000_p1k_T50.append(alg.hist.wgts[-1].ESS)\n",
    "\n",
    "print(f'\\n{timer() - start_time} seconds for d={d} and N={N} in Gaussian.')\n",
    "\n",
    "# Save the weights\n",
    "np.savetxt('maxW_d1000_p1k_T50.txt', maxW_d1000_p1k_T50, delimiter=',')\n",
    "np.savetxt('ESS_d1000_p1k_T50.txt', ESS_d1000_p1k_T50, delimiter=',')"
   ]
  },
  {
   "cell_type": "code",
   "execution_count": null,
   "id": "915ae30c-895e-412f-9b0d-aa51201d4e48",
   "metadata": {},
   "outputs": [],
   "source": [
    "start_time = timer()\n",
    "\n",
    "N = 10*1000\n",
    "maxW_d1000_p10k_T50 = []\n",
    "ESS_d1000_p10k_T50 = []\n",
    "\n",
    "for i in range(1000):\n",
    "    if i%20 == 0: print(i+20, end=' ')\n",
    "    \n",
    "    bear = CurseOfDimension(dimension=d)\n",
    "    x, y = bear.simulate(T)\n",
    "    \n",
    "    fk = ssms.Bootstrap(ssm=bear, data=y)\n",
    "    alg = particles.SMC(fk=fk, N=N, store_history=1)\n",
    "    alg.run()\n",
    "    \n",
    "    maxW_d1000_p10k_T50.append(max(alg.hist.wgts[-1].W))\n",
    "    ESS_d1000_p10k_T50.append(alg.hist.wgts[-1].ESS)\n",
    "    \n",
    "print(f'\\n{timer() - start_time} seconds for d={d} and N={N} in Gaussian.')\n",
    "\n",
    "# Save the weights\n",
    "np.savetxt('maxW_d1000_p10k_T50.txt', maxW_d1000_p10k_T50, delimiter=',')\n",
    "np.savetxt('ESS_d1000_p10k_T50.txt', ESS_d1000_p10k_T50, delimiter=',')"
   ]
  },
  {
   "cell_type": "code",
   "execution_count": 4,
   "id": "4e656c9f-8236-43ed-8d36-6bab17d1c700",
   "metadata": {},
   "outputs": [
    {
     "name": "stdout",
     "output_type": "stream",
     "text": [
      "20 40 60 80 100 120 140 160 180 200 220 240 260 280 300 320 340 360 380 400 420 440 460 480 500 520 540 560 580 600 620 640 660 680 700 720 740 760 780 800 820 840 860 880 900 920 940 960 980 1000 \n",
      "449712.61789141106 seconds for d=1000 and N=100000 in Gaussian.\n"
     ]
    }
   ],
   "source": [
    "start_time = timer()\n",
    "\n",
    "N = 100*1000\n",
    "maxW_d1000_p100k_T50 = []\n",
    "ESS_d1000_p100k_T50 = []\n",
    "\n",
    "for i in range(1000):\n",
    "    if i%20 == 0: print(i+20, end=' ')\n",
    "    \n",
    "    bear = CurseOfDimension(dimension=d)\n",
    "    x, y = bear.simulate(T)\n",
    "    \n",
    "    fk = ssms.Bootstrap(ssm=bear, data=y)\n",
    "    alg = particles.SMC(fk=fk, N=N, store_history=1)\n",
    "    alg.run()\n",
    "    \n",
    "    maxW_d1000_p100k_T50.append(max(alg.hist.wgts[-1].W))\n",
    "    ESS_d1000_p100k_T50.append(alg.hist.wgts[-1].ESS)\n",
    "\n",
    "print(f'\\n{timer() - start_time} seconds for d={d} and N={N} in Gaussian.')\n",
    "\n",
    "# Save the weights\n",
    "np.savetxt('maxW_d1000_p100k_T50.txt', maxW_d1000_p100k_T50, delimiter=',')\n",
    "np.savetxt('ESS_d1000_p100k_T50.txt', ESS_d1000_p100k_T50, delimiter=',')"
   ]
  },
  {
   "cell_type": "code",
   "execution_count": null,
   "id": "e5f695b3-b84b-4e88-b7b1-02e8e5413b43",
   "metadata": {},
   "outputs": [],
   "source": [
    "from concurrent.futures import ProcessPoolExecutor"
   ]
  },
  {
   "cell_type": "raw",
   "id": "149232f9-0131-4a99-9650-4e222411c922",
   "metadata": {},
   "source": [
    "d=10\n",
    "T = 10"
   ]
  },
  {
   "cell_type": "raw",
   "id": "a9c5f9c7-eb88-4947-8b8b-c3f42f6ed252",
   "metadata": {},
   "source": [
    "N = 1*1000\n",
    "maxW_d1000_p100k_T50 = []\n",
    "ESS_d1000_p100k_T50 = []\n",
    "\n",
    "bear = CurseOfDimension(dimension=d)\n",
    "def func_CoD(d):\n",
    "    if i%20 == 0: print(i+20, end=' ')\n",
    "    x, y = bear.simulate(T)\n",
    "    \n",
    "    fk = ssms.Bootstrap(ssm=bear, data=y)\n",
    "    alg = particles.SMC(fk=fk, N=N, store_history=1)\n",
    "    alg.run()\n",
    "    \n",
    "    maxW = max(alg.hist.wgts[-1].W)\n",
    "    ESS = alg.hist.wgts[-1].ESS\n",
    "    return maxW, ESS"
   ]
  },
  {
   "cell_type": "raw",
   "id": "b2d30772-213b-4e96-b086-fd4fd5eb2a85",
   "metadata": {},
   "source": [
    "import threading\n",
    "result = []\n",
    "start_time = timer()\n",
    "\n",
    "num_threads = 150\n",
    "threads = []\n",
    "for i in range(num_threads):\n",
    "    thread = threading.Thread(target=func_CoD, args=(i,))\n",
    "    thread.start()\n",
    "    threads.append(thread)\n",
    "\n",
    "print(f'\\n{timer() - start_time} seconds for d={d} and N={N} in Gaussian.')"
   ]
  },
  {
   "cell_type": "code",
   "execution_count": null,
   "id": "34cd2af7-f65f-4b4d-bd16-caade0229a1f",
   "metadata": {},
   "outputs": [],
   "source": []
  }
 ],
 "metadata": {
  "kernelspec": {
   "display_name": "Python 3 (ipykernel)",
   "language": "python",
   "name": "python3"
  },
  "language_info": {
   "codemirror_mode": {
    "name": "ipython",
    "version": 3
   },
   "file_extension": ".py",
   "mimetype": "text/x-python",
   "name": "python",
   "nbconvert_exporter": "python",
   "pygments_lexer": "ipython3",
   "version": "3.9.5"
  }
 },
 "nbformat": 4,
 "nbformat_minor": 5
}
